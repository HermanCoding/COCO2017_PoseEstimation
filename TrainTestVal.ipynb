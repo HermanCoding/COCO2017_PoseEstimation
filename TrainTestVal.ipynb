{
 "cells": [
  {
   "cell_type": "markdown",
   "metadata": {},
   "source": [
    "# Imports"
   ]
  },
  {
   "cell_type": "code",
   "execution_count": 13,
   "metadata": {
    "ExecuteTime": {
     "end_time": "2023-07-02T15:14:48.421884Z",
     "start_time": "2023-07-02T15:14:48.408642300Z"
    }
   },
   "outputs": [],
   "source": [
    "import cv2\n",
    "import torch\n",
    "import ultralytics\n",
    "from ultralytics import YOLO\n"
   ]
  },
  {
   "cell_type": "code",
   "execution_count": 7,
   "outputs": [
    {
     "data": {
      "text/plain": "False"
     },
     "execution_count": 7,
     "metadata": {},
     "output_type": "execute_result"
    }
   ],
   "source": [
    "torch.cuda.is_available()\n"
   ],
   "metadata": {
    "collapsed": false,
    "ExecuteTime": {
     "end_time": "2023-07-02T11:35:46.334441200Z",
     "start_time": "2023-07-02T11:35:46.289546400Z"
    }
   }
  },
  {
   "cell_type": "code",
   "execution_count": 8,
   "metadata": {},
   "outputs": [
    {
     "name": "stderr",
     "output_type": "stream",
     "text": [
      "Ultralytics YOLOv8.0.124  Python-3.11.2 torch-2.0.1+cpu CPU\n",
      "Setup complete  (8 CPUs, 15.8 GB RAM, 248.9/475.7 GB disk)\n"
     ]
    }
   ],
   "source": [
    "ultralytics.checks()"
   ]
  },
  {
   "cell_type": "markdown",
   "metadata": {},
   "source": [
    "# Setting up the model"
   ]
  },
  {
   "cell_type": "code",
   "execution_count": 14,
   "metadata": {
    "ExecuteTime": {
     "end_time": "2023-07-02T15:14:52.715703100Z",
     "start_time": "2023-07-02T15:14:52.604517200Z"
    }
   },
   "outputs": [
    {
     "name": "stderr",
     "output_type": "stream",
     "text": [
      "YOLOv8n-pose summary: 250 layers, 3295470 parameters, 0 gradients\n"
     ]
    },
    {
     "data": {
      "text/plain": "(250, 3295470, 0, 0.0)"
     },
     "execution_count": 14,
     "metadata": {},
     "output_type": "execute_result"
    }
   ],
   "source": [
    "# Load a model\n",
    "model = YOLO(\"yolov8n-pose.pt\")  # This model is pretrained. To setup a empty model use : model = YOLO('yolov8n.yaml')\n",
    "model.info()\n"
   ]
  },
  {
   "cell_type": "markdown",
   "metadata": {},
   "source": [
    "# Training\n",
    "\n",
    "The COCO8-Pose dataset is a tiny dataset ment for testing pipelines for errors or as a check before training larger datasets.\n",
    "It is a good dataset to show how easy it is to train a dataset using ultralytics."
   ]
  },
  {
   "cell_type": "code",
   "execution_count": 10,
   "metadata": {
    "ExecuteTime": {
     "end_time": "2023-07-02T11:38:37.726245400Z",
     "start_time": "2023-07-02T11:35:46.390059200Z"
    }
   },
   "outputs": [
    {
     "name": "stderr",
     "output_type": "stream",
     "text": [
      "Ultralytics YOLOv8.0.124  Python-3.11.2 torch-2.0.1+cpu CPU\n",
      "\u001B[34m\u001B[1myolo\\engine\\trainer: \u001B[0mtask=pose, mode=train, model=yolov8n-pose.pt, data=coco8-pose.yaml, epochs=100, patience=50, batch=16, imgsz=640, save=True, save_period=-1, cache=False, device=None, workers=8, project=None, name=None, exist_ok=False, pretrained=True, optimizer=auto, verbose=True, seed=0, deterministic=True, single_cls=False, rect=False, cos_lr=False, close_mosaic=0, resume=False, amp=True, fraction=1.0, profile=False, overlap_mask=True, mask_ratio=4, dropout=0.0, val=True, split=val, save_json=False, save_hybrid=False, conf=None, iou=0.7, max_det=300, half=False, dnn=False, plots=True, source=None, show=False, save_txt=False, save_conf=False, save_crop=False, show_labels=True, show_conf=True, vid_stride=1, line_width=None, visualize=False, augment=False, agnostic_nms=False, classes=None, retina_masks=False, boxes=True, format=torchscript, keras=False, optimize=False, int8=False, dynamic=False, simplify=False, opset=None, workspace=4, nms=False, lr0=0.01, lrf=0.01, momentum=0.937, weight_decay=0.0005, warmup_epochs=3.0, warmup_momentum=0.8, warmup_bias_lr=0.1, box=7.5, cls=0.5, dfl=1.5, pose=12.0, kobj=1.0, label_smoothing=0.0, nbs=64, hsv_h=0.015, hsv_s=0.7, hsv_v=0.4, degrees=0.0, translate=0.1, scale=0.5, shear=0.0, perspective=0.0, flipud=0.0, fliplr=0.5, mosaic=1.0, mixup=0.0, copy_paste=0.0, cfg=None, v5loader=False, tracker=botsort.yaml, save_dir=runs\\pose\\train\n",
      "\n",
      "                   from  n    params  module                                       arguments                     \n",
      "  0                  -1  1       464  ultralytics.nn.modules.conv.Conv             [3, 16, 3, 2]                 \n",
      "  1                  -1  1      4672  ultralytics.nn.modules.conv.Conv             [16, 32, 3, 2]                \n",
      "  2                  -1  1      7360  ultralytics.nn.modules.block.C2f             [32, 32, 1, True]             \n",
      "  3                  -1  1     18560  ultralytics.nn.modules.conv.Conv             [32, 64, 3, 2]                \n",
      "  4                  -1  2     49664  ultralytics.nn.modules.block.C2f             [64, 64, 2, True]             \n",
      "  5                  -1  1     73984  ultralytics.nn.modules.conv.Conv             [64, 128, 3, 2]               \n",
      "  6                  -1  2    197632  ultralytics.nn.modules.block.C2f             [128, 128, 2, True]           \n",
      "  7                  -1  1    295424  ultralytics.nn.modules.conv.Conv             [128, 256, 3, 2]              \n",
      "  8                  -1  1    460288  ultralytics.nn.modules.block.C2f             [256, 256, 1, True]           \n",
      "  9                  -1  1    164608  ultralytics.nn.modules.block.SPPF            [256, 256, 5]                 \n",
      " 10                  -1  1         0  torch.nn.modules.upsampling.Upsample         [None, 2, 'nearest']          \n",
      " 11             [-1, 6]  1         0  ultralytics.nn.modules.conv.Concat           [1]                           \n",
      " 12                  -1  1    148224  ultralytics.nn.modules.block.C2f             [384, 128, 1]                 \n",
      " 13                  -1  1         0  torch.nn.modules.upsampling.Upsample         [None, 2, 'nearest']          \n",
      " 14             [-1, 4]  1         0  ultralytics.nn.modules.conv.Concat           [1]                           \n",
      " 15                  -1  1     37248  ultralytics.nn.modules.block.C2f             [192, 64, 1]                  \n",
      " 16                  -1  1     36992  ultralytics.nn.modules.conv.Conv             [64, 64, 3, 2]                \n",
      " 17            [-1, 12]  1         0  ultralytics.nn.modules.conv.Concat           [1]                           \n",
      " 18                  -1  1    123648  ultralytics.nn.modules.block.C2f             [192, 128, 1]                 \n",
      " 19                  -1  1    147712  ultralytics.nn.modules.conv.Conv             [128, 128, 3, 2]              \n",
      " 20             [-1, 9]  1         0  ultralytics.nn.modules.conv.Concat           [1]                           \n",
      " 21                  -1  1    493056  ultralytics.nn.modules.block.C2f             [384, 256, 1]                 \n",
      " 22        [15, 18, 21]  1   1035934  ultralytics.nn.modules.head.Pose             [1, [17, 3], [64, 128, 256]]  \n",
      "YOLOv8n-pose summary: 250 layers, 3295470 parameters, 3295454 gradients\n",
      "\n",
      "Transferred 397/397 items from pretrained weights\n",
      "\u001B[34m\u001B[1mtrain: \u001B[0mScanning C:\\Users\\dherm\\python\\AI2_exam_assignment\\datasets\\coco8-pose\\labels\\train.cache... 4 images, 0 backgrounds, 0 corrupt: 100%|██████████| 4/4 [00:00<?, ?it/s]\n",
      "\u001B[34m\u001B[1mval: \u001B[0mScanning C:\\Users\\dherm\\python\\AI2_exam_assignment\\datasets\\coco8-pose\\labels\\val.cache... 4 images, 0 backgrounds, 0 corrupt: 100%|██████████| 4/4 [00:00<?, ?it/s]\n",
      "Plotting labels to runs\\pose\\train\\labels.jpg... \n",
      "\u001B[34m\u001B[1moptimizer:\u001B[0m AdamW(lr=0.002, momentum=0.9) with parameter groups 63 weight(decay=0.0), 73 weight(decay=0.0005), 72 bias(decay=0.0)\n",
      "Image sizes 640 train, 640 val\n",
      "Using 0 dataloader workers\n",
      "Logging results to \u001B[1mruns\\pose\\train\u001B[0m\n",
      "Starting training for 100 epochs...\n",
      "\n",
      "      Epoch    GPU_mem   box_loss  pose_loss  kobj_loss   cls_loss   dfl_loss  Instances       Size\n",
      "      1/100         0G      1.138      2.099     0.2283     0.9262      1.396         11        640: 100%|██████████| 1/1 [00:01<00:00,  1.75s/it]\n",
      "                 Class     Images  Instances      Box(P          R      mAP50  mAP50-95)     Pose(P          R      mAP50  mAP50-95): 100%|██████████| 1/1 [00:00<00:00,  1.44it/s]\n",
      "                   all          4         14      0.927      0.905      0.907      0.668      0.845        0.5      0.535      0.352\n",
      "\n",
      "      Epoch    GPU_mem   box_loss  pose_loss  kobj_loss   cls_loss   dfl_loss  Instances       Size\n",
      "      2/100         0G      1.758      5.128     0.3325       2.31      1.658          7        640: 100%|██████████| 1/1 [00:01<00:00,  1.73s/it]\n",
      "                 Class     Images  Instances      Box(P          R      mAP50  mAP50-95)     Pose(P          R      mAP50  mAP50-95): 100%|██████████| 1/1 [00:00<00:00,  1.37it/s]\n",
      "                   all          4         14       0.88      0.857      0.902      0.664      0.842        0.5      0.535      0.336\n",
      "\n",
      "      Epoch    GPU_mem   box_loss  pose_loss  kobj_loss   cls_loss   dfl_loss  Instances       Size\n",
      "      3/100         0G     0.9646      3.406     0.3642     0.7104       1.12         14        640: 100%|██████████| 1/1 [00:01<00:00,  1.75s/it]\n",
      "                 Class     Images  Instances      Box(P          R      mAP50  mAP50-95)     Pose(P          R      mAP50  mAP50-95): 100%|██████████| 1/1 [00:00<00:00,  1.42it/s]\n",
      "                   all          4         14      0.849      0.929      0.897      0.671      0.843        0.5      0.535      0.327\n",
      "\n",
      "      Epoch    GPU_mem   box_loss  pose_loss  kobj_loss   cls_loss   dfl_loss  Instances       Size\n",
      "      4/100         0G     0.9191        1.8     0.2788     0.6638      1.086         17        640: 100%|██████████| 1/1 [00:02<00:00,  2.13s/it]\n",
      "                 Class     Images  Instances      Box(P          R      mAP50  mAP50-95)     Pose(P          R      mAP50  mAP50-95): 100%|██████████| 1/1 [00:00<00:00,  1.15it/s]\n",
      "                   all          4         14      0.808      0.903      0.884      0.687      0.844        0.5      0.596      0.323\n",
      "\n",
      "      Epoch    GPU_mem   box_loss  pose_loss  kobj_loss   cls_loss   dfl_loss  Instances       Size\n",
      "      5/100         0G      1.166       2.42     0.3649     0.8914      1.266         16        640: 100%|██████████| 1/1 [00:02<00:00,  2.09s/it]\n",
      "                 Class     Images  Instances      Box(P          R      mAP50  mAP50-95)     Pose(P          R      mAP50  mAP50-95): 100%|██████████| 1/1 [00:00<00:00,  1.15it/s]\n",
      "                   all          4         14      0.856      0.851      0.878      0.688      0.787      0.571      0.577      0.295\n",
      "\n",
      "      Epoch    GPU_mem   box_loss  pose_loss  kobj_loss   cls_loss   dfl_loss  Instances       Size\n",
      "      6/100         0G      1.029      1.482     0.2561      0.563      1.283         14        640: 100%|██████████| 1/1 [00:02<00:00,  2.12s/it]\n",
      "                 Class     Images  Instances      Box(P          R      mAP50  mAP50-95)     Pose(P          R      mAP50  mAP50-95): 100%|██████████| 1/1 [00:00<00:00,  1.14it/s]\n",
      "                   all          4         14      0.761      0.909        0.9      0.664      0.777      0.571      0.571      0.278\n",
      "\n",
      "      Epoch    GPU_mem   box_loss  pose_loss  kobj_loss   cls_loss   dfl_loss  Instances       Size\n",
      "      7/100         0G      1.379      4.228     0.4256     0.9896      1.334         19        640: 100%|██████████| 1/1 [00:02<00:00,  2.08s/it]\n",
      "                 Class     Images  Instances      Box(P          R      mAP50  mAP50-95)     Pose(P          R      mAP50  mAP50-95): 100%|██████████| 1/1 [00:00<00:00,  1.17it/s]\n",
      "                   all          4         14      0.682      0.857      0.874      0.657      0.888      0.566      0.606      0.259\n",
      "\n",
      "      Epoch    GPU_mem   box_loss  pose_loss  kobj_loss   cls_loss   dfl_loss  Instances       Size\n",
      "      8/100         0G      1.595      2.369     0.3602      1.367      1.312         12        640: 100%|██████████| 1/1 [00:02<00:00,  2.04s/it]\n",
      "                 Class     Images  Instances      Box(P          R      mAP50  mAP50-95)     Pose(P          R      mAP50  mAP50-95): 100%|██████████| 1/1 [00:00<00:00,  1.22it/s]\n",
      "                   all          4         14      0.704      0.849      0.856      0.617      0.632        0.5      0.498      0.242\n",
      "\n",
      "      Epoch    GPU_mem   box_loss  pose_loss  kobj_loss   cls_loss   dfl_loss  Instances       Size\n",
      "      9/100         0G      1.324      1.971     0.3383      1.089      1.307         12        640: 100%|██████████| 1/1 [00:02<00:00,  2.05s/it]\n",
      "                 Class     Images  Instances      Box(P          R      mAP50  mAP50-95)     Pose(P          R      mAP50  mAP50-95): 100%|██████████| 1/1 [00:00<00:00,  1.16it/s]\n",
      "                   all          4         14      0.889      0.714      0.858      0.589      0.554      0.429      0.385      0.222\n",
      "\n",
      "      Epoch    GPU_mem   box_loss  pose_loss  kobj_loss   cls_loss   dfl_loss  Instances       Size\n",
      "     10/100         0G     0.7786      2.448     0.3197     0.6657      1.071         16        640: 100%|██████████| 1/1 [00:02<00:00,  2.06s/it]\n",
      "                 Class     Images  Instances      Box(P          R      mAP50  mAP50-95)     Pose(P          R      mAP50  mAP50-95): 100%|██████████| 1/1 [00:00<00:00,  1.20it/s]\n",
      "                   all          4         14      0.907      0.695       0.85      0.566      0.593      0.429      0.377      0.211\n",
      "\n",
      "      Epoch    GPU_mem   box_loss  pose_loss  kobj_loss   cls_loss   dfl_loss  Instances       Size\n",
      "     11/100         0G      1.108      1.846     0.3222     0.6304      1.129         21        640: 100%|██████████| 1/1 [00:02<00:00,  2.08s/it]\n",
      "                 Class     Images  Instances      Box(P          R      mAP50  mAP50-95)     Pose(P          R      mAP50  mAP50-95): 100%|██████████| 1/1 [00:00<00:00,  1.21it/s]\n",
      "                   all          4         14      0.966      0.643      0.843      0.582       0.64      0.429      0.369      0.196\n",
      "\n",
      "      Epoch    GPU_mem   box_loss  pose_loss  kobj_loss   cls_loss   dfl_loss  Instances       Size\n",
      "     12/100         0G     0.8549      2.617     0.3442     0.7329      1.017         21        640: 100%|██████████| 1/1 [00:02<00:00,  2.03s/it]\n",
      "                 Class     Images  Instances      Box(P          R      mAP50  mAP50-95)     Pose(P          R      mAP50  mAP50-95): 100%|██████████| 1/1 [00:00<00:00,  1.20it/s]\n",
      "                   all          4         14      0.969      0.643      0.863      0.567      0.751        0.5      0.518       0.23\n",
      "\n",
      "      Epoch    GPU_mem   box_loss  pose_loss  kobj_loss   cls_loss   dfl_loss  Instances       Size\n",
      "     13/100         0G     0.9572      2.049     0.2986     0.5364      1.005         21        640: 100%|██████████| 1/1 [00:02<00:00,  2.06s/it]\n",
      "                 Class     Images  Instances      Box(P          R      mAP50  mAP50-95)     Pose(P          R      mAP50  mAP50-95): 100%|██████████| 1/1 [00:00<00:00,  1.16it/s]\n",
      "                   all          4         14          1      0.634      0.822       0.52      0.814        0.5      0.542      0.229\n",
      "\n",
      "      Epoch    GPU_mem   box_loss  pose_loss  kobj_loss   cls_loss   dfl_loss  Instances       Size\n",
      "     14/100         0G     0.9357      1.294     0.2581     0.6235      1.211         12        640: 100%|██████████| 1/1 [00:02<00:00,  2.09s/it]\n",
      "                 Class     Images  Instances      Box(P          R      mAP50  mAP50-95)     Pose(P          R      mAP50  mAP50-95): 100%|██████████| 1/1 [00:00<00:00,  1.23it/s]\n",
      "                   all          4         14      0.959      0.571      0.812      0.504      0.839        0.5      0.535      0.223\n",
      "\n",
      "      Epoch    GPU_mem   box_loss  pose_loss  kobj_loss   cls_loss   dfl_loss  Instances       Size\n",
      "     15/100         0G     0.9455      1.784     0.2721     0.5716      1.021         17        640: 100%|██████████| 1/1 [00:02<00:00,  2.05s/it]\n",
      "                 Class     Images  Instances      Box(P          R      mAP50  mAP50-95)     Pose(P          R      mAP50  mAP50-95): 100%|██████████| 1/1 [00:00<00:00,  1.18it/s]\n",
      "                   all          4         14      0.799      0.643      0.775      0.473      0.827        0.5      0.516      0.212\n",
      "\n",
      "      Epoch    GPU_mem   box_loss  pose_loss  kobj_loss   cls_loss   dfl_loss  Instances       Size\n",
      "     16/100         0G     0.9771      1.871      0.259     0.6487      1.148         12        640: 100%|██████████| 1/1 [00:02<00:00,  2.22s/it]\n",
      "                 Class     Images  Instances      Box(P          R      mAP50  mAP50-95)     Pose(P          R      mAP50  mAP50-95): 100%|██████████| 1/1 [00:00<00:00,  1.18it/s]\n",
      "                   all          4         14      0.795      0.643      0.744      0.452      0.705      0.571      0.562      0.215\n",
      "\n",
      "      Epoch    GPU_mem   box_loss  pose_loss  kobj_loss   cls_loss   dfl_loss  Instances       Size\n",
      "     17/100         0G     0.9342      1.907      0.286     0.7881      1.204         13        640: 100%|██████████| 1/1 [00:02<00:00,  2.08s/it]\n",
      "                 Class     Images  Instances      Box(P          R      mAP50  mAP50-95)     Pose(P          R      mAP50  mAP50-95): 100%|██████████| 1/1 [00:00<00:00,  1.14it/s]\n",
      "                   all          4         14      0.898       0.63      0.723      0.414      0.797      0.561      0.542      0.174\n",
      "\n",
      "      Epoch    GPU_mem   box_loss  pose_loss  kobj_loss   cls_loss   dfl_loss  Instances       Size\n",
      "     18/100         0G      0.945      2.166     0.2217     0.9424      1.108         10        640: 100%|██████████| 1/1 [00:02<00:00,  2.02s/it]\n",
      "                 Class     Images  Instances      Box(P          R      mAP50  mAP50-95)     Pose(P          R      mAP50  mAP50-95): 100%|██████████| 1/1 [00:00<00:00,  1.19it/s]\n",
      "                   all          4         14      0.898       0.63      0.723      0.414      0.797      0.561      0.542      0.174\n",
      "\n",
      "      Epoch    GPU_mem   box_loss  pose_loss  kobj_loss   cls_loss   dfl_loss  Instances       Size\n",
      "     19/100         0G      1.064      5.667     0.2871     0.8642      1.363          8        640: 100%|██████████| 1/1 [00:02<00:00,  2.09s/it]\n",
      "                 Class     Images  Instances      Box(P          R      mAP50  mAP50-95)     Pose(P          R      mAP50  mAP50-95): 100%|██████████| 1/1 [00:00<00:00,  1.23it/s]\n",
      "                   all          4         14        0.9      0.641      0.716      0.383        0.8      0.571      0.518      0.182\n",
      "\n",
      "      Epoch    GPU_mem   box_loss  pose_loss  kobj_loss   cls_loss   dfl_loss  Instances       Size\n",
      "     20/100         0G     0.9609      2.205     0.2862      0.594      1.048         19        640: 100%|██████████| 1/1 [00:01<00:00,  2.00s/it]\n",
      "                 Class     Images  Instances      Box(P          R      mAP50  mAP50-95)     Pose(P          R      mAP50  mAP50-95): 100%|██████████| 1/1 [00:00<00:00,  1.17it/s]\n",
      "                   all          4         14        0.9      0.641      0.716      0.383        0.8      0.571      0.518      0.182\n",
      "\n",
      "      Epoch    GPU_mem   box_loss  pose_loss  kobj_loss   cls_loss   dfl_loss  Instances       Size\n",
      "     21/100         0G      0.797     0.7253     0.2119     0.7252      1.248          7        640: 100%|██████████| 1/1 [00:02<00:00,  2.03s/it]\n",
      "                 Class     Images  Instances      Box(P          R      mAP50  mAP50-95)     Pose(P          R      mAP50  mAP50-95): 100%|██████████| 1/1 [00:00<00:00,  1.21it/s]\n",
      "                   all          4         14      0.899      0.635      0.713      0.379      0.682        0.5      0.391      0.138\n",
      "\n",
      "      Epoch    GPU_mem   box_loss  pose_loss  kobj_loss   cls_loss   dfl_loss  Instances       Size\n",
      "     22/100         0G      0.824      1.819     0.3004     0.7092      1.075         14        640: 100%|██████████| 1/1 [00:02<00:00,  2.02s/it]\n",
      "                 Class     Images  Instances      Box(P          R      mAP50  mAP50-95)     Pose(P          R      mAP50  mAP50-95): 100%|██████████| 1/1 [00:00<00:00,  1.20it/s]\n",
      "                   all          4         14      0.899      0.635      0.713      0.379      0.682        0.5      0.391      0.138\n",
      "\n",
      "      Epoch    GPU_mem   box_loss  pose_loss  kobj_loss   cls_loss   dfl_loss  Instances       Size\n",
      "     23/100         0G     0.8059      2.376      0.295     0.6549     0.9642         17        640: 100%|██████████| 1/1 [00:02<00:00,  2.07s/it]\n",
      "                 Class     Images  Instances      Box(P          R      mAP50  mAP50-95)     Pose(P          R      mAP50  mAP50-95): 100%|██████████| 1/1 [00:00<00:00,  1.16it/s]\n",
      "                   all          4         14      0.664      0.643       0.72      0.356       0.57      0.429      0.293     0.0966\n",
      "\n",
      "      Epoch    GPU_mem   box_loss  pose_loss  kobj_loss   cls_loss   dfl_loss  Instances       Size\n",
      "     24/100         0G     0.7448      2.565     0.2113     0.5927       1.06          7        640: 100%|██████████| 1/1 [00:02<00:00,  2.03s/it]\n",
      "                 Class     Images  Instances      Box(P          R      mAP50  mAP50-95)     Pose(P          R      mAP50  mAP50-95): 100%|██████████| 1/1 [00:00<00:00,  1.23it/s]\n",
      "                   all          4         14      0.664      0.643       0.72      0.356       0.57      0.429      0.293     0.0966\n",
      "\n",
      "      Epoch    GPU_mem   box_loss  pose_loss  kobj_loss   cls_loss   dfl_loss  Instances       Size\n",
      "     25/100         0G      1.134      3.236     0.1957     0.7203      1.227          9        640: 100%|██████████| 1/1 [00:02<00:00,  2.12s/it]\n",
      "                 Class     Images  Instances      Box(P          R      mAP50  mAP50-95)     Pose(P          R      mAP50  mAP50-95): 100%|██████████| 1/1 [00:00<00:00,  1.07it/s]\n",
      "                   all          4         14      0.946        0.5      0.691      0.353      0.574      0.429      0.313     0.0887\n",
      "\n",
      "      Epoch    GPU_mem   box_loss  pose_loss  kobj_loss   cls_loss   dfl_loss  Instances       Size\n",
      "     26/100         0G      1.314      3.011     0.3964     0.8933      1.261         21        640: 100%|██████████| 1/1 [00:02<00:00,  2.11s/it]\n",
      "                 Class     Images  Instances      Box(P          R      mAP50  mAP50-95)     Pose(P          R      mAP50  mAP50-95): 100%|██████████| 1/1 [00:00<00:00,  1.18it/s]\n",
      "                   all          4         14      0.946        0.5      0.691      0.353      0.574      0.429      0.313     0.0887\n",
      "\n",
      "      Epoch    GPU_mem   box_loss  pose_loss  kobj_loss   cls_loss   dfl_loss  Instances       Size\n",
      "     27/100         0G     0.9713      2.784     0.4347     0.7142      1.062         16        640: 100%|██████████| 1/1 [00:02<00:00,  2.05s/it]\n",
      "                 Class     Images  Instances      Box(P          R      mAP50  mAP50-95)     Pose(P          R      mAP50  mAP50-95): 100%|██████████| 1/1 [00:00<00:00,  1.21it/s]\n",
      "                   all          4         14      0.889       0.57      0.688      0.376      0.426      0.286       0.19     0.0738\n",
      "\n",
      "      Epoch    GPU_mem   box_loss  pose_loss  kobj_loss   cls_loss   dfl_loss  Instances       Size\n",
      "     28/100         0G     0.8829      2.122     0.2948     0.6929      1.039         14        640: 100%|██████████| 1/1 [00:01<00:00,  2.00s/it]\n",
      "                 Class     Images  Instances      Box(P          R      mAP50  mAP50-95)     Pose(P          R      mAP50  mAP50-95): 100%|██████████| 1/1 [00:00<00:00,  1.16it/s]\n",
      "                   all          4         14      0.889       0.57      0.688      0.376      0.426      0.286       0.19     0.0738\n",
      "\n",
      "      Epoch    GPU_mem   box_loss  pose_loss  kobj_loss   cls_loss   dfl_loss  Instances       Size\n",
      "     29/100         0G      1.089      3.526     0.4198     0.7145      1.109         17        640: 100%|██████████| 1/1 [00:02<00:00,  2.05s/it]\n",
      "                 Class     Images  Instances      Box(P          R      mAP50  mAP50-95)     Pose(P          R      mAP50  mAP50-95): 100%|██████████| 1/1 [00:00<00:00,  1.12it/s]\n",
      "                   all          4         14      0.873      0.571      0.665      0.346      0.549      0.214      0.185     0.0706\n",
      "\n",
      "      Epoch    GPU_mem   box_loss  pose_loss  kobj_loss   cls_loss   dfl_loss  Instances       Size\n",
      "     30/100         0G     0.9461      1.785     0.2401     0.8439      1.129         13        640: 100%|██████████| 1/1 [00:01<00:00,  1.97s/it]\n",
      "                 Class     Images  Instances      Box(P          R      mAP50  mAP50-95)     Pose(P          R      mAP50  mAP50-95): 100%|██████████| 1/1 [00:00<00:00,  1.19it/s]\n",
      "                   all          4         14      0.873      0.571      0.665      0.346      0.549      0.214      0.185     0.0706\n",
      "\n",
      "      Epoch    GPU_mem   box_loss  pose_loss  kobj_loss   cls_loss   dfl_loss  Instances       Size\n",
      "     31/100         0G      1.208      4.212      0.315      1.036      1.199         15        640: 100%|██████████| 1/1 [00:02<00:00,  2.05s/it]\n",
      "                 Class     Images  Instances      Box(P          R      mAP50  mAP50-95)     Pose(P          R      mAP50  mAP50-95): 100%|██████████| 1/1 [00:00<00:00,  1.22it/s]\n",
      "                   all          4         14      0.715      0.571      0.662      0.337      0.515      0.214      0.181     0.0678\n",
      "\n",
      "      Epoch    GPU_mem   box_loss  pose_loss  kobj_loss   cls_loss   dfl_loss  Instances       Size\n",
      "     32/100         0G     0.9818      2.062     0.3576     0.8059       1.11         22        640: 100%|██████████| 1/1 [00:01<00:00,  2.00s/it]\n",
      "                 Class     Images  Instances      Box(P          R      mAP50  mAP50-95)     Pose(P          R      mAP50  mAP50-95): 100%|██████████| 1/1 [00:00<00:00,  1.21it/s]\n",
      "                   all          4         14      0.715      0.571      0.662      0.337      0.515      0.214      0.181     0.0678\n",
      "\n",
      "      Epoch    GPU_mem   box_loss  pose_loss  kobj_loss   cls_loss   dfl_loss  Instances       Size\n",
      "     33/100         0G     0.7638      3.052     0.2734     0.9426      1.125          9        640: 100%|██████████| 1/1 [00:02<00:00,  2.04s/it]\n",
      "                 Class     Images  Instances      Box(P          R      mAP50  mAP50-95)     Pose(P          R      mAP50  mAP50-95): 100%|██████████| 1/1 [00:00<00:00,  1.18it/s]\n",
      "                   all          4         14      0.722      0.558      0.622      0.333      0.441      0.286      0.221     0.0713\n",
      "\n",
      "      Epoch    GPU_mem   box_loss  pose_loss  kobj_loss   cls_loss   dfl_loss  Instances       Size\n",
      "     34/100         0G      1.019      2.912     0.4622     0.9197      1.206         11        640: 100%|██████████| 1/1 [00:01<00:00,  1.98s/it]\n",
      "                 Class     Images  Instances      Box(P          R      mAP50  mAP50-95)     Pose(P          R      mAP50  mAP50-95): 100%|██████████| 1/1 [00:00<00:00,  1.15it/s]\n",
      "                   all          4         14      0.722      0.558      0.622      0.333      0.441      0.286      0.221     0.0713\n",
      "\n",
      "      Epoch    GPU_mem   box_loss  pose_loss  kobj_loss   cls_loss   dfl_loss  Instances       Size\n",
      "     35/100         0G      1.193      2.273     0.1496      1.102      1.369         15        640: 100%|██████████| 1/1 [00:02<00:00,  2.08s/it]\n",
      "                 Class     Images  Instances      Box(P          R      mAP50  mAP50-95)     Pose(P          R      mAP50  mAP50-95): 100%|██████████| 1/1 [00:00<00:00,  1.16it/s]\n",
      "                   all          4         14       0.52      0.643      0.592      0.335      0.531      0.286      0.208     0.0651\n",
      "\n",
      "      Epoch    GPU_mem   box_loss  pose_loss  kobj_loss   cls_loss   dfl_loss  Instances       Size\n",
      "     36/100         0G      1.117      3.924     0.3838     0.8696       1.33         17        640: 100%|██████████| 1/1 [00:02<00:00,  2.08s/it]\n",
      "                 Class     Images  Instances      Box(P          R      mAP50  mAP50-95)     Pose(P          R      mAP50  mAP50-95): 100%|██████████| 1/1 [00:00<00:00,  1.18it/s]\n",
      "                   all          4         14       0.52      0.643      0.592      0.335      0.531      0.286      0.208     0.0651\n",
      "\n",
      "      Epoch    GPU_mem   box_loss  pose_loss  kobj_loss   cls_loss   dfl_loss  Instances       Size\n",
      "     37/100         0G      1.062      2.925     0.3352     0.8807      1.223         19        640: 100%|██████████| 1/1 [00:02<00:00,  2.03s/it]\n",
      "                 Class     Images  Instances      Box(P          R      mAP50  mAP50-95)     Pose(P          R      mAP50  mAP50-95): 100%|██████████| 1/1 [00:00<00:00,  1.22it/s]\n",
      "                   all          4         14       0.71      0.429      0.568      0.315      0.468      0.286      0.189     0.0629\n",
      "\n",
      "      Epoch    GPU_mem   box_loss  pose_loss  kobj_loss   cls_loss   dfl_loss  Instances       Size\n",
      "     38/100         0G      1.031      2.311     0.3295      1.239      1.114         16        640: 100%|██████████| 1/1 [00:01<00:00,  1.99s/it]\n",
      "                 Class     Images  Instances      Box(P          R      mAP50  mAP50-95)     Pose(P          R      mAP50  mAP50-95): 100%|██████████| 1/1 [00:00<00:00,  1.04it/s]\n",
      "                   all          4         14       0.71      0.429      0.568      0.315      0.468      0.286      0.189     0.0629\n",
      "\n",
      "      Epoch    GPU_mem   box_loss  pose_loss  kobj_loss   cls_loss   dfl_loss  Instances       Size\n",
      "     39/100         0G     0.8277      2.751     0.3184     0.8845      1.145         12        640: 100%|██████████| 1/1 [00:02<00:00,  2.07s/it]\n",
      "                 Class     Images  Instances      Box(P          R      mAP50  mAP50-95)     Pose(P          R      mAP50  mAP50-95): 100%|██████████| 1/1 [00:00<00:00,  1.17it/s]\n",
      "                   all          4         14      0.679      0.429      0.558      0.274      0.452      0.286      0.176     0.0615\n",
      "\n",
      "      Epoch    GPU_mem   box_loss  pose_loss  kobj_loss   cls_loss   dfl_loss  Instances       Size\n",
      "     40/100         0G      1.258      2.655     0.3501     0.9332      1.323         12        640: 100%|██████████| 1/1 [00:02<00:00,  2.07s/it]\n",
      "                 Class     Images  Instances      Box(P          R      mAP50  mAP50-95)     Pose(P          R      mAP50  mAP50-95): 100%|██████████| 1/1 [00:00<00:00,  1.17it/s]\n",
      "                   all          4         14      0.679      0.429      0.558      0.274      0.452      0.286      0.176     0.0615\n",
      "\n",
      "      Epoch    GPU_mem   box_loss  pose_loss  kobj_loss   cls_loss   dfl_loss  Instances       Size\n",
      "     41/100         0G      1.096      2.844     0.3366      0.944       1.26         12        640: 100%|██████████| 1/1 [00:02<00:00,  2.06s/it]\n",
      "                 Class     Images  Instances      Box(P          R      mAP50  mAP50-95)     Pose(P          R      mAP50  mAP50-95): 100%|██████████| 1/1 [00:00<00:00,  1.22it/s]\n",
      "                   all          4         14      0.776      0.496      0.602      0.278      0.403      0.286      0.191     0.0612\n",
      "\n",
      "      Epoch    GPU_mem   box_loss  pose_loss  kobj_loss   cls_loss   dfl_loss  Instances       Size\n",
      "     42/100         0G     0.7864      2.003     0.3348      0.777      1.054         14        640: 100%|██████████| 1/1 [00:01<00:00,  2.00s/it]\n",
      "                 Class     Images  Instances      Box(P          R      mAP50  mAP50-95)     Pose(P          R      mAP50  mAP50-95): 100%|██████████| 1/1 [00:00<00:00,  1.11it/s]\n",
      "                   all          4         14      0.776      0.496      0.602      0.278      0.403      0.286      0.191     0.0612\n",
      "\n",
      "      Epoch    GPU_mem   box_loss  pose_loss  kobj_loss   cls_loss   dfl_loss  Instances       Size\n",
      "     43/100         0G     0.9946      2.847     0.3562      1.059      1.075         14        640: 100%|██████████| 1/1 [00:02<00:00,  2.22s/it]\n",
      "                 Class     Images  Instances      Box(P          R      mAP50  mAP50-95)     Pose(P          R      mAP50  mAP50-95): 100%|██████████| 1/1 [00:00<00:00,  1.18it/s]\n",
      "                   all          4         14          1      0.407      0.624      0.274      0.293      0.214      0.155     0.0357\n",
      "\n",
      "      Epoch    GPU_mem   box_loss  pose_loss  kobj_loss   cls_loss   dfl_loss  Instances       Size\n",
      "     44/100         0G      1.048      2.724     0.3409      0.912      1.124         22        640: 100%|██████████| 1/1 [00:01<00:00,  1.99s/it]\n",
      "                 Class     Images  Instances      Box(P          R      mAP50  mAP50-95)     Pose(P          R      mAP50  mAP50-95): 100%|██████████| 1/1 [00:00<00:00,  1.17it/s]\n",
      "                   all          4         14          1      0.407      0.624      0.274      0.293      0.214      0.155     0.0357\n",
      "\n",
      "      Epoch    GPU_mem   box_loss  pose_loss  kobj_loss   cls_loss   dfl_loss  Instances       Size\n",
      "     45/100         0G      1.004      3.202     0.3364     0.9849      1.127         13        640: 100%|██████████| 1/1 [00:02<00:00,  2.11s/it]\n",
      "                 Class     Images  Instances      Box(P          R      mAP50  mAP50-95)     Pose(P          R      mAP50  mAP50-95): 100%|██████████| 1/1 [00:00<00:00,  1.21it/s]\n",
      "                   all          4         14      0.493      0.643      0.523      0.294      0.447      0.214      0.153      0.037\n",
      "\n",
      "      Epoch    GPU_mem   box_loss  pose_loss  kobj_loss   cls_loss   dfl_loss  Instances       Size\n",
      "     46/100         0G     0.9155      3.031     0.2821     0.8322      1.086         12        640: 100%|██████████| 1/1 [00:02<00:00,  2.03s/it]\n",
      "                 Class     Images  Instances      Box(P          R      mAP50  mAP50-95)     Pose(P          R      mAP50  mAP50-95): 100%|██████████| 1/1 [00:00<00:00,  1.24it/s]\n",
      "                   all          4         14      0.493      0.643      0.523      0.294      0.447      0.214      0.153      0.037\n",
      "\n",
      "      Epoch    GPU_mem   box_loss  pose_loss  kobj_loss   cls_loss   dfl_loss  Instances       Size\n",
      "     47/100         0G      1.276      2.569     0.2687     0.8193      1.298         15        640: 100%|██████████| 1/1 [00:01<00:00,  2.00s/it]\n",
      "                 Class     Images  Instances      Box(P          R      mAP50  mAP50-95)     Pose(P          R      mAP50  mAP50-95): 100%|██████████| 1/1 [00:00<00:00,  1.17it/s]\n",
      "                   all          4         14      0.401      0.571      0.437      0.226      0.432      0.143      0.114     0.0199\n",
      "\n",
      "      Epoch    GPU_mem   box_loss  pose_loss  kobj_loss   cls_loss   dfl_loss  Instances       Size\n",
      "     48/100         0G      1.194      2.625     0.3831     0.8809      1.243         12        640: 100%|██████████| 1/1 [00:02<00:00,  2.01s/it]\n",
      "                 Class     Images  Instances      Box(P          R      mAP50  mAP50-95)     Pose(P          R      mAP50  mAP50-95): 100%|██████████| 1/1 [00:00<00:00,  1.18it/s]\n",
      "                   all          4         14      0.401      0.571      0.437      0.226      0.432      0.143      0.114     0.0199\n",
      "\n",
      "      Epoch    GPU_mem   box_loss  pose_loss  kobj_loss   cls_loss   dfl_loss  Instances       Size\n",
      "     49/100         0G     0.7396      2.778     0.2925     0.6384     0.9426         16        640: 100%|██████████| 1/1 [00:02<00:00,  2.06s/it]\n",
      "                 Class     Images  Instances      Box(P          R      mAP50  mAP50-95)     Pose(P          R      mAP50  mAP50-95): 100%|██████████| 1/1 [00:00<00:00,  1.18it/s]\n",
      "                   all          4         14      0.419      0.571      0.431      0.189      0.527      0.143      0.102     0.0288\n",
      "\n",
      "      Epoch    GPU_mem   box_loss  pose_loss  kobj_loss   cls_loss   dfl_loss  Instances       Size\n",
      "     50/100         0G      1.107      3.184     0.2186      1.069        1.2         13        640: 100%|██████████| 1/1 [00:01<00:00,  1.95s/it]\n",
      "                 Class     Images  Instances      Box(P          R      mAP50  mAP50-95)     Pose(P          R      mAP50  mAP50-95): 100%|██████████| 1/1 [00:00<00:00,  1.21it/s]\n",
      "                   all          4         14      0.419      0.571      0.431      0.189      0.527      0.143      0.102     0.0288\n",
      "\n",
      "      Epoch    GPU_mem   box_loss  pose_loss  kobj_loss   cls_loss   dfl_loss  Instances       Size\n",
      "     51/100         0G     0.8621      3.851     0.2928     0.6723     0.9728         19        640: 100%|██████████| 1/1 [00:02<00:00,  2.04s/it]\n",
      "                 Class     Images  Instances      Box(P          R      mAP50  mAP50-95)     Pose(P          R      mAP50  mAP50-95): 100%|██████████| 1/1 [00:00<00:00,  1.18it/s]\n",
      "                   all          4         14      0.439      0.571      0.421      0.146      0.319      0.143     0.0669     0.0221\n",
      "Stopping training early as no improvement observed in last 50 epochs. Best results observed at epoch 1, best model saved as best.pt.\n",
      "To update EarlyStopping(patience=50) pass a new patience value, i.e. `patience=300` or use `patience=0` to disable EarlyStopping.\n",
      "\n",
      "51 epochs completed in 0.045 hours.\n",
      "Optimizer stripped from runs\\pose\\train\\weights\\last.pt, 6.8MB\n",
      "Optimizer stripped from runs\\pose\\train\\weights\\best.pt, 6.8MB\n",
      "\n",
      "Validating runs\\pose\\train\\weights\\best.pt...\n",
      "Ultralytics YOLOv8.0.124  Python-3.11.2 torch-2.0.1+cpu CPU\n",
      "YOLOv8n-pose summary (fused): 187 layers, 3289964 parameters, 0 gradients\n",
      "                 Class     Images  Instances      Box(P          R      mAP50  mAP50-95)     Pose(P          R      mAP50  mAP50-95): 100%|██████████| 1/1 [00:00<00:00,  1.47it/s]\n",
      "                   all          4         14      0.927      0.906      0.907      0.668      0.845        0.5      0.535      0.352\n",
      "Speed: 1.5ms preprocess, 157.8ms inference, 0.0ms loss, 1.0ms postprocess per image\n",
      "Results saved to \u001B[1mruns\\pose\\train\u001B[0m\n"
     ]
    }
   ],
   "source": [
    "# Train the model\n",
    "model.train(data='coco8-pose.yaml', epochs=100, imgsz=640, plots=True)"
   ]
  },
  {
   "cell_type": "markdown",
   "metadata": {},
   "source": [
    "# Validate\n",
    "The re-trained YOLOv8n-pose model accuracy on the COCO8-pose dataset."
   ]
  },
  {
   "cell_type": "code",
   "execution_count": 15,
   "metadata": {
    "ExecuteTime": {
     "end_time": "2023-07-02T15:15:01.809905900Z",
     "start_time": "2023-07-02T15:14:56.879267500Z"
    }
   },
   "outputs": [
    {
     "name": "stderr",
     "output_type": "stream",
     "text": [
      "Ultralytics YOLOv8.0.124  Python-3.11.2 torch-2.0.1+cpu CPU\n",
      "YOLOv8n-pose summary (fused): 187 layers, 3289964 parameters, 0 gradients\n",
      "\u001B[34m\u001B[1mval: \u001B[0mScanning C:\\Users\\dherm\\python\\AI2_exam_assignment\\datasets\\coco8-pose\\labels\\val.cache... 4 images, 0 backgrounds, 0 corrupt: 100%|██████████| 4/4 [00:00<?, ?it/s]\n",
      "                 Class     Images  Instances      Box(P          R      mAP50  mAP50-95)     Pose(P          R      mAP50  mAP50-95): 100%|██████████| 1/1 [00:00<00:00,  1.09it/s]\n",
      "                   all          4         14      0.927      0.906      0.907      0.668      0.845        0.5      0.535      0.352\n",
      "Speed: 2.8ms preprocess, 207.7ms inference, 0.0ms loss, 1.6ms postprocess per image\n",
      "Results saved to \u001B[1mruns\\pose\\val2\u001B[0m\n"
     ]
    }
   ],
   "source": [
    "model = YOLO('runs/pose/train/weights/best.pt')  # load a custom model\n",
    "\n",
    "# Validate the model\n",
    "metrics = model.val()  # no arguments needed, dataset and settings remembered\n",
    "\n"
   ]
  },
  {
   "cell_type": "markdown",
   "source": [
    "# Predict"
   ],
   "metadata": {
    "collapsed": false
   }
  },
  {
   "cell_type": "code",
   "execution_count": 24,
   "metadata": {
    "ExecuteTime": {
     "end_time": "2023-07-02T15:23:47.218239Z",
     "start_time": "2023-07-02T15:23:47.022877500Z"
    }
   },
   "outputs": [
    {
     "name": "stderr",
     "output_type": "stream",
     "text": [
      "\n",
      "Found https:\\ultralytics.com\\images\\bus.jpg locally at bus.jpg\n",
      "image 1/1 C:\\Users\\dherm\\python\\AI2_exam_assignment\\bus.jpg: 640x480 3 persons, 156.3ms\n",
      "Speed: 2.0ms preprocess, 156.3ms inference, 1.5ms postprocess per image at shape (1, 3, 640, 480)\n"
     ]
    },
    {
     "name": "stdout",
     "output_type": "stream",
     "text": [
      "[ultralytics.yolo.engine.results.Results object with attributes:\n",
      "\n",
      "boxes: ultralytics.yolo.engine.results.Boxes object\n",
      "keypoints: ultralytics.yolo.engine.results.Keypoints object\n",
      "keys: ['boxes', 'keypoints']\n",
      "masks: None\n",
      "names: {0: 'person'}\n",
      "orig_img: array([[[122, 148, 172],\n",
      "        [120, 146, 170],\n",
      "        [125, 153, 177],\n",
      "        ...,\n",
      "        [157, 170, 184],\n",
      "        [158, 171, 185],\n",
      "        [158, 171, 185]],\n",
      "\n",
      "       [[127, 153, 177],\n",
      "        [124, 150, 174],\n",
      "        [127, 155, 179],\n",
      "        ...,\n",
      "        [158, 171, 185],\n",
      "        [159, 172, 186],\n",
      "        [159, 172, 186]],\n",
      "\n",
      "       [[128, 154, 178],\n",
      "        [126, 152, 176],\n",
      "        [126, 154, 178],\n",
      "        ...,\n",
      "        [158, 171, 185],\n",
      "        [158, 171, 185],\n",
      "        [158, 171, 185]],\n",
      "\n",
      "       ...,\n",
      "\n",
      "       [[185, 185, 191],\n",
      "        [182, 182, 188],\n",
      "        [179, 179, 185],\n",
      "        ...,\n",
      "        [114, 107, 112],\n",
      "        [115, 105, 111],\n",
      "        [116, 106, 112]],\n",
      "\n",
      "       [[157, 157, 163],\n",
      "        [180, 180, 186],\n",
      "        [185, 186, 190],\n",
      "        ...,\n",
      "        [107,  97, 103],\n",
      "        [102,  92,  98],\n",
      "        [108,  98, 104]],\n",
      "\n",
      "       [[112, 112, 118],\n",
      "        [160, 160, 166],\n",
      "        [169, 170, 174],\n",
      "        ...,\n",
      "        [ 99,  89,  95],\n",
      "        [ 96,  86,  92],\n",
      "        [102,  92,  98]]], dtype=uint8)\n",
      "orig_shape: (1080, 810)\n",
      "path: 'C:\\\\Users\\\\dherm\\\\python\\\\AI2_exam_assignment\\\\bus.jpg'\n",
      "probs: None\n",
      "save_dir: None\n",
      "speed: {'preprocess': 2.015352249145508, 'inference': 156.33893013000488, 'postprocess': 1.5079975128173828}]\n"
     ]
    }
   ],
   "source": [
    "# Predict with the model\n",
    "predict = model.predict('https://ultralytics.com/images/bus.jpg', conf=0.75)\n",
    "# predict on an image\n",
    "print(predict)"
   ]
  },
  {
   "cell_type": "code",
   "execution_count": 25,
   "outputs": [
    {
     "name": "stderr",
     "output_type": "stream",
     "text": [
      "\n",
      "image 1/1 C:\\Users\\dherm\\python\\AI2_exam_assignment\\bus.jpg: 640x480 3 persons, 188.6ms\n",
      "Speed: 2.0ms preprocess, 188.6ms inference, 1.0ms postprocess per image at shape (1, 3, 640, 480)\n"
     ]
    }
   ],
   "source": [
    "# Show the image with keypoint names\n",
    "\n",
    "img = cv2.imread('bus.jpg')\n",
    "\n",
    "results = model('bus.jpg', conf=0.75)[0]\n",
    "\n",
    "for result in results:\n",
    "    for keypoint_index, keypoint in enumerate(result.keypoints.data[0].tolist()):\n",
    "        cv2.putText(img, str(keypoint_index), (int(keypoint[0]), int(keypoint[1])),\n",
    "                    cv2.FONT_HERSHEY_SIMPLEX, 0.5, (0, 255, 0), 2)\n",
    "\n",
    "cv2.imshow('Results', img)\n",
    "cv2.waitKey(0)\n",
    "cv2.destroyAllWindows()"
   ],
   "metadata": {
    "collapsed": false,
    "ExecuteTime": {
     "end_time": "2023-07-02T15:24:30.017813200Z",
     "start_time": "2023-07-02T15:24:12.814051100Z"
    }
   }
  }
 ],
 "metadata": {
  "kernelspec": {
   "display_name": "Python 3 (ipykernel)",
   "language": "python",
   "name": "python3"
  },
  "language_info": {
   "codemirror_mode": {
    "name": "ipython",
    "version": 3
   },
   "file_extension": ".py",
   "mimetype": "text/x-python",
   "name": "python",
   "nbconvert_exporter": "python",
   "pygments_lexer": "ipython3",
   "version": "3.11.2"
  }
 },
 "nbformat": 4,
 "nbformat_minor": 1
}
